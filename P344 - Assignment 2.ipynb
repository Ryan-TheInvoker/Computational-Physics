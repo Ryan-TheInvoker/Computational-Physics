{
 "cells": [
  {
   "cell_type": "markdown",
   "metadata": {},
   "source": [
    "# Physics 344: Assignment 2\n",
    "Answer the following questions in this notebook using Python code, together with appropriate discussions and calculations in Markdown cells."
   ]
  },
  {
   "cell_type": "markdown",
   "metadata": {},
   "source": [
    "**Student Name:**\n",
    "\n",
    "**Student Number:**"
   ]
  },
  {
   "cell_type": "code",
   "execution_count": 1,
   "metadata": {},
   "outputs": [],
   "source": [
    "# https://numpy.org/doc/stable/reference/random/generator.html\n",
    "# https://docs.scipy.org/doc/scipy/reference/integrate.html\n",
    "\n",
    "import numpy as np\n",
    "import matplotlib.pyplot as plt\n",
    "import scipy.integrate as integrate\n",
    "rng=np.random.default_rng()"
   ]
  },
  {
   "cell_type": "markdown",
   "metadata": {},
   "source": [
    "## Question 1\n",
    "\n",
    "As a companion to $\\pi$-darts, here is another entry for the exhibit of horribly inefficient ways of calculating mathematical constants:\n",
    "\n",
    "*The average number of $U(0,1)$ random numbers you need to add to get a result larger than one is $e$.*\n",
    "\n",
    "Estimate $e$ together with the RMS error by using this approach for a sample size of $n=500000$. What is the actual percentage error of your estimate? "
   ]
  },
  {
   "cell_type": "code",
   "execution_count": 2,
   "metadata": {},
   "outputs": [
    {
     "name": "stdout",
     "output_type": "stream",
     "text": [
      "estimated_e:  2.7184\n",
      "RMS = 0.0012380912509763328\n",
      "Percentage Error:  4.347288044883355e-05\n"
     ]
    }
   ],
   "source": [
    "n=500000\n",
    "\n",
    "uniform_samples = rng.uniform(0,1,n)\n",
    "counts = []\n",
    "for _ in range(n):\n",
    "    total = 0\n",
    "    count = 0\n",
    "    while total <= 1:\n",
    "        total += rng.uniform(0,1)\n",
    "        count += 1\n",
    "    counts.append(count)\n",
    "\n",
    "Mn = np.mean(counts) \n",
    "print(\"estimated_e: \",Mn) \n",
    "\n",
    "\n",
    "sum2 =0\n",
    "\n",
    "for i in counts:\n",
    "    sum2 += (i - Mn)**2\n",
    "\n",
    "Sn = np.sqrt((1/(n-1)) * sum2)\n",
    "\n",
    "print(\"RMS =\",Sn/np.sqrt(n)) \n",
    "\n",
    "\n",
    "print(\"Percentage Error: \",abs(Mn - np.e)/np.e)"
   ]
  },
  {
   "cell_type": "markdown",
   "metadata": {},
   "source": [
    "## Question 2\n",
    "\n",
    "Here you will use Monte Carlo to estimate the average distance $D$ between points in the unit disk. You will need to use what you learned in Question 7 of Assignment 1. The exact answer is $D=128/(45\\pi)$, which results from evaluating a four-dimensional integral.\n",
    "\n",
    "1. Write a function that generates an estimate of $D$ based on a given sample size $n$. In the notation of the direct sampling recipe, your function should return $m_n$ (the estimate of $D$) as well as $s_n/\\sqrt{n}$ (the estimate of the RMS error).\n",
    "2. Generate an estimate for $D$ using a sample with $n=10000$, and report this together with the estimated $95.5\\%$ confidence interval.\n",
    "2. Next we want to test our understanding of confidence intervals. If we generate a large number of estimates of $D$ (each with a corresponding value of $s_n/\\sqrt{n}$), we expect that in about $68.3\\%$ of the cases the $\\mu\\pm s_n/\\sqrt{n}$ confidence interval will contain the exact result $D$. Similarly, in about $95.5\\%$ of the cases $\\mu\\pm 2s_n/\\sqrt{n}$ should contain $D$, and in about $99.7\\%$ of the cases $\\mu\\pm 3s_n/\\sqrt{n}$ should contain $D$. Test this prediction."
   ]
  },
  {
   "cell_type": "markdown",
   "metadata": {},
   "source": [
    "### 2.1)"
   ]
  },
  {
   "cell_type": "code",
   "execution_count": 3,
   "metadata": {},
   "outputs": [],
   "source": [
    "def D_generate(num_points):\n",
    "    R = np.sqrt(rng.uniform(0, 1, num_points))  #R = sqrt(rng.uniform(0, 1, num_points)*np.pi)\n",
    "    Theta = rng.uniform(0, 2*np.pi, num_points)\n",
    "    X = R * np.cos(Theta)\n",
    "    Y = R * np.sin(Theta)\n",
    "    \n",
    "    \n",
    "    return X,Y\n",
    "\n",
    "def D_estimate(num_points):\n",
    "    x1,y1 = D_generate(num_points)\n",
    "    x2,y2 = D_generate(num_points)\n",
    "    \n",
    "    distances = []\n",
    "\n",
    "    for i in range(num_points):\n",
    "        \n",
    "        distances.append(np.sqrt((x1[i] - x2[i])**2 + (y1[i] - y2[i])**2))\n",
    "\n",
    "    Mn = np.mean(distances)\n",
    "    sum3 = 0\n",
    "\n",
    "    for i in range(num_points):\n",
    "        sum3 += (distances[i]-Mn)**2\n",
    "        \n",
    "    Sn = np.sqrt( ( 1/(num_points-1) ) * sum3) \n",
    "   # RMSE_Var = np.sqrt(np.var(distances)/num_points)\n",
    "    RMS = Sn/np.sqrt(num_points)\n",
    "\n",
    "    return Mn,RMS,Sn\n"
   ]
  },
  {
   "cell_type": "markdown",
   "metadata": {},
   "source": [
    "### 2.2)"
   ]
  },
  {
   "cell_type": "code",
   "execution_count": 4,
   "metadata": {},
   "outputs": [
    {
     "name": "stdout",
     "output_type": "stream",
     "text": [
      "Mn:  0.9037807508395433\n",
      "RMS:  0.004236974128858903\n",
      "('Confidence Interval:', 0.9122546990972612, ' ', 0.8953068025818255)\n"
     ]
    }
   ],
   "source": [
    "Mn,RMS,Sn = D_estimate(10000)\n",
    " \n",
    "print(\"Mn: \",Mn)\n",
    "print(\"RMS: \",RMS)\n",
    "def confindence_Int(Mn,Sn):\n",
    "\n",
    "    confindence1 = Mn + (2 * ( Sn/ np.sqrt(10000)))\n",
    "    confindence2 = Mn - ( 2* (Sn / np.sqrt(10000)))\n",
    "\n",
    "    return \"Confidence Interval:\", confindence1,\" \", confindence2\n",
    "print(confindence_Int(Mn,Sn))"
   ]
  },
  {
   "cell_type": "markdown",
   "metadata": {},
   "source": [
    "### 2.3)"
   ]
  },
  {
   "cell_type": "code",
   "execution_count": null,
   "metadata": {},
   "outputs": [],
   "source": []
  },
  {
   "cell_type": "markdown",
   "metadata": {},
   "source": [
    "# Question 3: Monte Carlo Integration - Direct Sampling"
   ]
  },
  {
   "attachments": {
    "image-2.png": {
     "image/png": "[encoded data removed]"
    }
   },
   "cell_type": "markdown",
   "metadata": {},
   "source": [
    "Consider the integral $$\\int_0^L {\\rm d}x\\, (1+x^{3/2})e^{-2x}$$ for $L=10$. The value of this integral cannot be expressed in terms of elementary functions, but we can estimate it using Monte Carlo integration.  In this language, we consider\n",
    "$$I=\\frac{1}{L}\\int_0^L {\\rm d}x\\, (1+x^{3/2})e^{-2x},$$\n",
    "which we interpret as the expectation value of the function $$f(x)=(1+x^{3/2})e^{-2x}$$ with respect to the uniform distribution $\\pi(x)=1/L$. Of course, an estimate of $I$ then provides one of the original integral as well, and so we focus on $I$ from here on. (Just like $\\pi$-darts produced an estimate of $\\pi/4$, rather than of $\\pi$ itself.)\n",
    "\n",
    "Use the direct sampling approach to produce an estimate of $I$, and of the RMS error, for a sample with $n=20000$. We are interested in comparing the estimates for $I$ and for the RMS error to their exact values.  With this in mind, have your code print out a summary of the following form:\n",
    "\n",
    "![image-2.png](attachment:image-2.png)"
   ]
  },
  {
   "cell_type": "markdown",
   "metadata": {},
   "source": [
    "# Question 4: Monte Carlo Integration - Importance Sampling"
   ]
  },
  {
   "cell_type": "markdown",
   "metadata": {},
   "source": [
    "Repeat the previous question, but now using importance sampling. A possible choice for sampling distribution would be $g(x) \\propto e^{-ax}$, with $a$ an adjustable parameter, since it has a similar shape to $f(x)\\pi(x)$. You should find that for small values of $a$ you get essentially the same results as before. For large values of $a$ the RMS error will increase drastically due to the large variation in the weight function $w(x)=\\pi(x)/g(x)\\propto e^{ax}$. However, for more moderate values of $a$ this approach should easily outperform direct sampling. Play around with the value of $a$ and find one that works well. Present your results as before. In particular, to achieve the same level of accuracy as in Question 3, what sample size would you need here?"
   ]
  },
  {
   "cell_type": "markdown",
   "metadata": {},
   "source": [
    "# Question 5\n",
    "Consider a system in the canonical ensemble at a temperature $T$. The expectation value of an observable $\\mathcal{O}$ is then given in terms of the Boltzmann distribution $\\pi(s)=\\frac{1}{Z}e^{-\\beta U(s)}$ by $$\\langle \\mathcal{O} \\rangle=\\sum_{s\\in S}\\pi(s)\\mathcal{O}(s).$$\n",
    "Ideally, we would like to apply direct sampling, and generate states from $S$ according to the Boltzmann distribution. However, for interacting systems this is no easy task. Later we will see how Markov chain Monte Carlo allows us to do this. It might appear that importance sampling could provide a solution here, and that we can just sample from $S$ using a simple uniform distribution $g(s)=|S|^{-1}$, and then correct for this using the $w(s)=\\pi(s)/g(s)$ weights. However, this quickly raises another problem, namely that we usually don't know the partition function $Z$, which is probably about as difficult to calculate as $\\langle \\mathcal{O} \\rangle$ itself. \n",
    "\n",
    "Self-normalising importance sampling does offer a patial solution here, since it only requires us to know the weights up to a constant factor, and so we can use $w(s)=e^{-\\beta U(s)}$. (*Side note: This is perhaps an example of what is sometimes called **simple sampling**, i.e. to sample uniformly and then correct for this using appropriate weights.*) This approach works well enough at high temperatures where the Boltzmann distribution is not too strongly peaked around the low-energy states, so that the weight function does not vary by much. However, at low temperatures this approach will fail badly. This is because the uniformly generated states are overwhelmingly likely to have fairly high energies, and their weights (i.e. Boltzmann factors) will therefore be extremely small. The handful of low-energy states (or maybe just the lowest energy one) in the sample will then completely dominate the sample mean, effectively resulting in a very small sample size, and large errors.\n",
    "\n",
    "In this question we will see this play out in the context of a simple solvable model, the well-known two-state paramagnet. We consider $N$ classical spins $s_i=\\pm1$ which interact with an external magnetic field. The magnetisation and energy of a state $s$ is then given by $M(s)=\\sum_i s_i$ and $U(s)=-hM(s)$. Here $h$ is a measure of the magnetic field strength. \n",
    "\n",
    "1. Define a function that implements, for given $N$, $\\beta h$ and sample size $n$, self-normalising importance sampling with weight function $w(x)=e^{-\\beta U(s)}$ to produce an estimate of the paramagnet's average magnetization $\\langle M \\rangle$. Produce a plot of your estimate for $\\langle M \\rangle/N$ as a function of $\\beta h\\in[0,5]$ for $N=30$, together with the exact result. Discuss what you observe. Can you explain why the estimates for $\\langle M \\rangle/N$ are so poor at lower temperatures, and why these estimates seem to discretised?\n",
    "2. Since the paramagnet is a non-interacting system, the spins are independent random variables as far as the Boltzmann distribution is concerned. This makes it easy to generate states according to the Boltzmann distribution, and to apply direct sampling instead. Write a second version of your function, now using direct sampling, and compare the results to those you obtained previously.\n",
    "\n",
    "**Note:** *With direct sampling you should find very good agreement with the exact result even for $n=500$. Take a moment to appreciate how remarkable this is. The exact expectation value is a sum of $2^{30}=1\\,073\\,741\\,824$ terms. You are producing an accurate estimate of this sum by taking into account only about $500\\approx 0.000047\\%$ of them.*"
   ]
  }
 ],
 "metadata": {
  "kernelspec": {
   "display_name": "Python 3.11.3 64-bit",
   "language": "python",
   "name": "python3"
  },
  "language_info": {
   "codemirror_mode": {
    "name": "ipython",
    "version": 3
   },
   "file_extension": ".py",
   "mimetype": "text/x-python",
   "name": "python",
   "nbconvert_exporter": "python",
   "pygments_lexer": "ipython3",
   "version": "3.11.3"
  },
  "orig_nbformat": 4,
  "vscode": {
   "interpreter": {
    "hash": "e7370f93d1d0cde622a1f8e1c04877d8463912d04d973331ad4851f04de6915a"
   }
  }
 },
 "nbformat": 4,
 "nbformat_minor": 2
}
